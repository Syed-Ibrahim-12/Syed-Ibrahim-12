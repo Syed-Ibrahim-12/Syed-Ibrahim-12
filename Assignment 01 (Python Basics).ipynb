{
 "cells": [
  {
   "cell_type": "markdown",
   "metadata": {},
   "source": [
    "# Part -1 Python Basics (Variables)"
   ]
  },
  {
   "cell_type": "markdown",
   "metadata": {},
   "source": [
    "1. Print Your Name with your Father name and Date of birth using suitable escape sequence charactor"
   ]
  },
  {
   "cell_type": "code",
   "execution_count": 16,
   "metadata": {},
   "outputs": [
    {
     "name": "stdout",
     "output_type": "stream",
     "text": [
      "my name = ibrahim \n",
      " father name = hussain \n",
      " date of birth = 27 octuber 2007\n"
     ]
    }
   ],
   "source": [
    "print(\"my name = ibrahim \\n father name = hussain \\n date of birth = 27 octuber 2007\")"
   ]
  },
  {
   "cell_type": "markdown",
   "metadata": {},
   "source": [
    "2. Write your small bio using variables and print it using print function"
   ]
  },
  {
   "cell_type": "code",
   "execution_count": 17,
   "metadata": {},
   "outputs": [
    {
     "name": "stdout",
     "output_type": "stream",
     "text": [
      "My name is Syed Ibrahim.\n",
      " I am 18 years old.\n",
      " I am studing python fron saylani.\n"
     ]
    }
   ],
   "source": [
    "bio = \"My name is Syed Ibrahim.\\n I am 18 years old.\\n I am studing python fron saylani.\"\n",
    "\n",
    "print(bio)\n",
    "\n"
   ]
  },
  {
   "cell_type": "markdown",
   "metadata": {},
   "source": [
    "3. Write a program in which use all the operators we can use in Python"
   ]
  },
  {
   "cell_type": "code",
   "execution_count": 18,
   "metadata": {},
   "outputs": [
    {
     "name": "stdout",
     "output_type": "stream",
     "text": [
      "a > b is False\n",
      "a<b is True\n",
      "a==b is False\n",
      "a!=b is True\n",
      "a>=b is False\n",
      "a<=b is True\n",
      "x and y is False\n",
      "x or y is True\n",
      "not z is False\n",
      "a + b = 10\n",
      "a - b = -6\n",
      "a * b = 16\n",
      "a / b = 0.25\n",
      "a // b = 0\n",
      "a % b = 2\n",
      "a ** b = 256\n",
      "x greater than y\n"
     ]
    }
   ],
   "source": [
    "# comparison operater    1\n",
    "a = 2\n",
    "b = 7\n",
    "print(\"a > b is\", a > b)\n",
    "print(\"a<b is\", a<b)\n",
    "print(\"a==b is\", a==b)\n",
    "print(\"a!=b is\", a!=b)\n",
    "print(\"a>=b is\", a>=b)\n",
    "print(\"a<=b is\", a<=b)\n",
    "# logical operater       2\n",
    "x =True\n",
    "y=False\n",
    "print(\"x and y is\", x and y)\n",
    "print(\"x or y is\",x or y)\n",
    "print(\"not x is\",not x)\n",
    "# arithematic operater   3\n",
    "a = 2\n",
    "b = 8\n",
    "print(\"a + b =\",a + b)\n",
    "print(\"a - b =\",a - b)\n",
    "print(\"a * b =\",a * b)\n",
    "print(\"a / b =\",a / b)\n",
    "print(\"a // b =\",a // b)\n",
    "print(\"a % b =\",a % b)\n",
    "print(\"a ** b =\",a ** b)\n",
    "# ternary operater       4\n",
    "result = \"x greater than y\" if x > y else \"y greater than or equal to x\"\n",
    "print(result)"
   ]
  },
  {
   "cell_type": "markdown",
   "metadata": {},
   "source": [
    "4. Completes the following steps of small task:\n",
    "    - Mention Marks of English , Islamiat and Maths out of 100 in 3 different variables\n",
    "    - Mention Variable of Total Marks and assign 300 to it\n",
    "    - Calculate Percentage"
   ]
  },
  {
   "cell_type": "code",
   "execution_count": 19,
   "metadata": {},
   "outputs": [
    {
     "name": "stdout",
     "output_type": "stream",
     "text": [
      "percentage gain: 69 %\n"
     ]
    }
   ],
   "source": [
    "\n",
    "english_marks = 70\n",
    "islamiat_marks = 78\n",
    "maths_marks = 60\n",
    "(\"\\n\")\n",
    "total_marks = 300\n",
    "(\"\\n\")\n",
    "percentage = (english_marks + islamiat_marks + maths_marks) / total_marks * 100\n",
    "(\"\\n\")\n",
    "print(\"percentage gain:\",round(percentage),\"%\")\n",
    "\n",
    " "
   ]
  },
  {
   "cell_type": "markdown",
   "metadata": {},
   "source": [
    "# Part -2 Python Basics (Conditional Statements)"
   ]
  },
  {
   "cell_type": "markdown",
   "metadata": {},
   "source": [
    "1) A company decided to give bonus of 5% to employee if his/her year of service is more than 5 years.\n",
    "Ask user for their salary and year of service and print the net bonus amount."
   ]
  },
  {
   "cell_type": "code",
   "execution_count": 20,
   "metadata": {},
   "outputs": [
    {
     "name": "stdout",
     "output_type": "stream",
     "text": [
      "congratulation you have bonus of  salary. 9450.0\n"
     ]
    }
   ],
   "source": [
    "salary = float(input(\"enter your salary: \"))\n",
    "year_of_service = int(input(\"enter your years of service :  \"))\n",
    "if year_of_service > 5:\n",
    "    bonus_amount = salary + (salary * 0.05)\n",
    "    print(f\"congratulation you have bonus of  salary. {bonus_amount}\")\n",
    "else:\n",
    "    print(\"sorry,you donot have bonus\")    "
   ]
  },
  {
   "cell_type": "markdown",
   "metadata": {},
   "source": [
    "\n",
    "2) Write a program to check whether a person is eligible for voting or not. (accept age from user) if age is greater than 17 eligible otherwise not eligible"
   ]
  },
  {
   "cell_type": "code",
   "execution_count": 21,
   "metadata": {},
   "outputs": [
    {
     "name": "stdout",
     "output_type": "stream",
     "text": [
      "egligible\n"
     ]
    }
   ],
   "source": [
    "person_age = int(input(\"Enter your age.. \"))\n",
    "if person_age > 17:\n",
    "    print(\"egligible\") \n",
    "else:\n",
    "  print(\"not egligible\")"
   ]
  },
  {
   "cell_type": "markdown",
   "metadata": {},
   "source": [
    "\n",
    "3) Write a program to check whether a number entered by user is even or odd."
   ]
  },
  {
   "cell_type": "code",
   "execution_count": 22,
   "metadata": {},
   "outputs": [
    {
     "name": "stdout",
     "output_type": "stream",
     "text": [
      "even\n"
     ]
    }
   ],
   "source": [
    "number = int(input(\"enter your number: \"))\n",
    "if number % 2 == 0:\n",
    "    print(\"even\")\n",
    "else:\n",
    "    print(\"odd\")\n",
    "      "
   ]
  },
  {
   "cell_type": "markdown",
   "metadata": {},
   "source": [
    "4) Write a program to check whether a number is divisible by 7 or not.\n",
    "Show Answer"
   ]
  },
  {
   "cell_type": "code",
   "execution_count": 23,
   "metadata": {},
   "outputs": [
    {
     "name": "stdout",
     "output_type": "stream",
     "text": [
      "not divisible\n"
     ]
    }
   ],
   "source": [
    "number = int(input(\"enter your num: \"))\n",
    "if number %  7 == 0:\n",
    "    print(\"divisible\")\n",
    "else:\n",
    "    print(\"not divisible\")"
   ]
  },
  {
   "cell_type": "markdown",
   "metadata": {},
   "source": [
    "5) Write a program to display \n",
    "\"Hello\" if a number entered by user is a multiple of five , otherwise print \"Bye\"."
   ]
  },
  {
   "cell_type": "code",
   "execution_count": 24,
   "metadata": {},
   "outputs": [
    {
     "name": "stdout",
     "output_type": "stream",
     "text": [
      "bye\n"
     ]
    }
   ],
   "source": [
    "number = int(input(\"enter your number: \"))\n",
    "if number % 5 == 0:\n",
    "    print(\"hello\")\n",
    "else:\n",
    "    print(\"bye\")    "
   ]
  },
  {
   "cell_type": "markdown",
   "metadata": {},
   "source": [
    "7) Write a program to display the last digit of a number.\n"
   ]
  },
  {
   "cell_type": "code",
   "execution_count": 25,
   "metadata": {},
   "outputs": [
    {
     "name": "stdout",
     "output_type": "stream",
     "text": [
      "5\n"
     ]
    }
   ],
   "source": [
    "number = 868897655\n",
    "x = str(number)\n",
    "y = x[-1]\n",
    "z = int(y)\n",
    "print((z))"
   ]
  },
  {
   "cell_type": "markdown",
   "metadata": {},
   "source": [
    "9) Take values of length and breadth of a rectangle from user and print if it is square or rectangle."
   ]
  },
  {
   "cell_type": "code",
   "execution_count": 26,
   "metadata": {},
   "outputs": [
    {
     "name": "stdout",
     "output_type": "stream",
     "text": [
      "It is a sqare.\n"
     ]
    }
   ],
   "source": [
    "length = int(input(\"enter the length of yhe rectangle: \"))\n",
    "breadth = int(input(\"enter the breadth of rectangle: \"))\n",
    "if length == breadth:\n",
    "    print (\"It is a square.\")\n",
    "else:\n",
    "    print(\"It is a rectangle.\")\n",
    "    "
   ]
  },
  {
   "cell_type": "markdown",
   "metadata": {},
   "source": [
    "10) Take two int values from user and print greatest among them."
   ]
  },
  {
   "cell_type": "code",
   "execution_count": 27,
   "metadata": {},
   "outputs": [],
   "source": [
    "number1 = int(input(\"enter your first number: \"))\n",
    "number2 = int(input(\"enter your second number: \"))\n",
    "if  number1 <  number2:\n",
    "    print(\" number2 is greater\")\n",
    "if  number1 > number2:\n",
    "    print(\"number1 is greater\")\n",
    "\n",
    "    "
   ]
  },
  {
   "cell_type": "markdown",
   "metadata": {},
   "source": [
    "11) A shop will give discount of 10% if the cost of purchased quantity is more than 1000.\n",
    "Ask user for quantity\n",
    "Suppose, one unit will cost 100.\n",
    "Judge and print total cost for user."
   ]
  },
  {
   "cell_type": "code",
   "execution_count": 28,
   "metadata": {},
   "outputs": [
    {
     "name": "stdout",
     "output_type": "stream",
     "text": [
      "Total cost after discount: 7020.00\n"
     ]
    }
   ],
   "source": [
    "quantity = int(input(\"Enter the quantity of items purchased: \"))\n",
    "cost_of_one_unit = 100\n",
    "total_cost = quantity * cost_of_one_unit\n",
    "\n",
    "if total_cost > 1000:\n",
    "    discount = 0.10 * total_cost  \n",
    "    total_cost -= discount  \n",
    "\n",
    "print(f\"Total cost after discount: {total_cost:.2f}\")\n"
   ]
  },
  {
   "cell_type": "markdown",
   "metadata": {},
   "source": [
    "12) A school has following rules for grading system:\n",
    "\n",
    "a. Below 25 - F\n",
    "\n",
    "b. 25 to 45 - E\n",
    "\n",
    "c. 45 to 50 - D\n",
    "\n",
    "d. 50 to 60 - C\n",
    "\n",
    "e. 60 to 80 - B\n",
    "\n",
    "f. Above 80 - A\n",
    "\n",
    "Ask user to enter marks and print the corresponding grade."
   ]
  },
  {
   "cell_type": "code",
   "execution_count": 29,
   "metadata": {},
   "outputs": [
    {
     "name": "stdout",
     "output_type": "stream",
     "text": [
      "B\n"
     ]
    }
   ],
   "source": [
    "marks = int(input(\"Enter your grade: \"))\n",
    "\n",
    "if marks < 25:\n",
    "    print(\"F\")\n",
    "elif marks >= 25 and marks < 45:\n",
    "    print(\"E\")\n",
    "elif marks >= 45 and marks < 50:\n",
    "    print(\"D\")\n",
    "elif marks >= 50 and marks < 60:\n",
    "    print(\"C\")\n",
    "elif marks >= 60 and marks <= 80:\n",
    "    print(\"B\")\n",
    "elif marks > 80:\n",
    "    print(\"A\")\n",
    "else:\n",
    "    print(\"Incorrect marks entered\")\n",
    "\n"
   ]
  },
  {
   "cell_type": "markdown",
   "metadata": {},
   "source": [
    "14)A student will not be allowed to sit in exam if his/her attendence is less than 75%.\n",
    "\n",
    "Take following input from user\n",
    "\n",
    "- Number of classes held\n",
    "\n",
    "- Number of classes attended.\n",
    "\n",
    "And print\n",
    "\n",
    "- percentage of class attended\n",
    "\n",
    "- Is student is allowed to sit in exam or not.\n"
   ]
  },
  {
   "cell_type": "code",
   "execution_count": 30,
   "metadata": {},
   "outputs": [
    {
     "name": "stdout",
     "output_type": "stream",
     "text": [
      "percentage of classes attended: 71.11111111111111%\n",
      "student is not allowed to sit in the exam.\n"
     ]
    }
   ],
   "source": [
    "classes_held = int(input(\"enter the number of classes held: \"))\n",
    "classes_attended = int(input(\"enter the number of classes attended: \"))\n",
    "attendence_percentage = (classes_attended / classes_held) * 100\n",
    "if attendence_percentage >= 75:\n",
    "    allowed_to_sit = True\n",
    "else:\n",
    "    allowed_to_sit = False\n",
    "print(f\"percentage of classes attended: {attendence_percentage}%\")\n",
    "if allowed_to_sit:\n",
    "    print(\"student is allowed to sit in the exam.\")\n",
    "else:\n",
    "    print(\"student is not allowed to sit in the exam.\")\n",
    "    "
   ]
  },
  {
   "cell_type": "markdown",
   "metadata": {},
   "source": [
    "15) Modify the above question to allow student to sit if he/she has medical cause. Ask user if he/she has medical cause or not ( 'Y' or 'N' ) and print accordingly."
   ]
  },
  {
   "cell_type": "code",
   "execution_count": 36,
   "metadata": {},
   "outputs": [
    {
     "name": "stdout",
     "output_type": "stream",
     "text": [
      "percentage of classes attended: 72.22222222222221%\n",
      "student is allowed to sit in the exam.\n"
     ]
    }
   ],
   "source": [
    "classes_held = int(input(\"enter the number of classes held: \"))\n",
    "classes_attended = int(input(\"enter the number of classes attended: \"))\n",
    "attendence_percentage = (classes_attended / classes_held) * 100\n",
    "print(f\"percentage of classes attended: {attendence_percentage}%\")\n",
    "if classes_attended >75:\n",
    "    print(\"You are allowed to sit in the exam.\")\n",
    "if attendence_percentage <= 75:\n",
    " medical_cause = input(\"do you have any medical cause (Y/N: \")\n",
    "if medical_cause == (\"Y\").lower():\n",
    "       print(\"student is allowed to sit in the exam.\")\n",
    "else:\n",
    "        print(\"Not! Allowed to sit in exam.\")   \n"
   ]
  },
  {
   "cell_type": "markdown",
   "metadata": {},
   "source": [
    "16) Write a program to check if a year is leap year or not.\n",
    "\n",
    "If a year is divisible by 4 then it is leap year but if the year is century year like 2000, 1900, 2100 then it must be divisible by 400."
   ]
  },
  {
   "cell_type": "code",
   "execution_count": null,
   "metadata": {},
   "outputs": [
    {
     "name": "stdout",
     "output_type": "stream",
     "text": [
      "this is not a leap year.\n"
     ]
    }
   ],
   "source": [
    "year = int(input(\"enter your year: \"))\n",
    "if year % 4== 0:\n",
    "    print(\"its a leap year.\") \n",
    "    if year == [2000,1900,2100]:\n",
    "        print (\"this is also a leap year.\")\n",
    "else:\n",
    "    print(\"this is not a leap year.\")\n",
    "    "
   ]
  },
  {
   "cell_type": "markdown",
   "metadata": {},
   "source": [
    "17) Ask user to enter age, gender ( M or F ), marital status ( Y or N ) and then using following rules print their place of service.\n",
    "\n",
    "if employee is female, then she will work only in urban areas.\n",
    "\n",
    "if employee is a male and age is in between 20 to 40 then he may work in anywhere\n",
    "\n",
    "if employee is male and age is in between 40 t0 60 then he will work in urban areas only.\n",
    "\n",
    "And any other input of age should print \"ERROR\""
   ]
  },
  {
   "cell_type": "code",
   "execution_count": 32,
   "metadata": {},
   "outputs": [
    {
     "name": "stdout",
     "output_type": "stream",
     "text": [
      "He can work in urban areas only.\n"
     ]
    }
   ],
   "source": [
    "age = int(input(\"enter your age: \"))\n",
    "gender = input(\"enter your gender (m/f): \")\n",
    "if gender == \"f\":\n",
    "    print(\"she will work in urban areas only.\")\n",
    "if gender == \"m\":\n",
    "    if age >=20 and age<=40:\n",
    "        print(\"He can work any where..\")\n",
    "if gender == \"m\":\n",
    "    if age >=40 and age<=60:\n",
    "        print(\"He can work in urban areas only.\")        \n",
    "if gender == \"m\" or gender =='f':\n",
    "    if age > 60:\n",
    "       print(\"Error\")        "
   ]
  },
  {
   "cell_type": "markdown",
   "metadata": {},
   "source": [
    "6) Write a program to calculate the electricity bill (accept number of unit from user) according to the following criteria :\n",
    "     Unit                                                     Price  \n",
    "uptp 100 units                                             no charge\n",
    "Next 200 units                                              Rs 5 per unit\n",
    "After 200 units                                             Rs 10 per unit\n",
    "(For example if input unit is 350 than total bill amount is Rs.3500\n",
    "(For example if input unit is 97 than total bill amount is Rs.0\n",
    "(For example if input unit is 150 than total bill amount is Rs.750"
   ]
  },
  {
   "cell_type": "markdown",
   "metadata": {},
   "source": [
    "13) Take input of age of 3 people by user and determine oldest and youngest among them."
   ]
  },
  {
   "cell_type": "code",
   "execution_count": null,
   "metadata": {},
   "outputs": [
    {
     "name": "stdout",
     "output_type": "stream",
     "text": [
      "The total bill is 6700\n"
     ]
    }
   ],
   "source": [
    "unit = int(input(\"enter your unit price : \"))\n",
    "if unit <= 100:\n",
    "    print(\"no charge.\")\n",
    "elif unit >100 and unit <=200:\n",
    "    price = unit * 5\n",
    "    print(f\"The total bill is {price}\")\n",
    "elif unit > 200:\n",
    "    total = unit* 10\n",
    "    print(f'The total bill is {total}')     \n"
   ]
  }
 ],
 "metadata": {
  "kernelspec": {
   "display_name": "Python 3 (ipykernel)",
   "language": "python",
   "name": "python3"
  },
  "language_info": {
   "codemirror_mode": {
    "name": "ipython",
    "version": 3
   },
   "file_extension": ".py",
   "mimetype": "text/x-python",
   "name": "python",
   "nbconvert_exporter": "python",
   "pygments_lexer": "ipython3",
   "version": "3.12.4"
  }
 },
 "nbformat": 4,
 "nbformat_minor": 2
}
