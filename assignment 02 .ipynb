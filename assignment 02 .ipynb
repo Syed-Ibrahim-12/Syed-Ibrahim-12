{
 "cells": [
  {
   "cell_type": "code",
   "execution_count": 2,
   "metadata": {},
   "outputs": [
    {
     "name": "stdout",
     "output_type": "stream",
     "text": [
      "apple is added to your cart. Current cart: ['apple']\n",
      "banana is added to your cart. Current cart: ['apple', 'banana']\n",
      "Invalid input. Please enter 'add', 'remove', or 'quit'.\n",
      "grapes is added to your cart. Current cart: ['apple', 'banana', 'grapes']\n",
      "apple is removed from your cart. Current cart: ['banana', 'grapes']\n",
      "Exiting the program.\n"
     ]
    }
   ],
   "source": [
    "\n",
    "shopping = []   \n",
    "\n",
    "while True:\n",
    "    item = input(\"Enter what do you want to do (add, remove, or quit): \").lower()\n",
    "    \n",
    "    if item == \"add\":\n",
    "        el = input(\"Enter the item name: \")\n",
    "        shopping.append(el)\n",
    "        print(f\"{el} is added to your cart. Current cart: {shopping}\")\n",
    "    \n",
    "    elif item == \"remove\":\n",
    "        val = input(\"Enter the item you want to remove: \")\n",
    "        if val in shopping:\n",
    "            shopping.remove(val)\n",
    "            print(f\"{val} is removed from your cart. Current cart: {shopping}\")\n",
    "        else:\n",
    "            print(f\"{val} is not in the cart.\")\n",
    "    \n",
    "    elif item == \"quit\":\n",
    "        print(\"Exiting the program.\")\n",
    "        break\n",
    "    \n",
    "    else:\n",
    "        print(\"Invalid input. Please enter 'add', 'remove', or 'quit'.\")"
   ]
  },
  {
   "cell_type": "code",
   "execution_count": 3,
   "metadata": {},
   "outputs": [
    {
     "name": "stdout",
     "output_type": "stream",
     "text": [
      "['apple', 'apple', 'apple']\n",
      "['banana', 'banana']\n",
      "['orange']\n",
      "['grape']\n"
     ]
    }
   ],
   "source": [
    "word_list = [\"apple\", \"banana\", \"apple\", \"orange\", \"banana\", \"grape\", \"apple\"]\n",
    "grouped_words = {}\n",
    "\n",
    "for word in word_list:\n",
    "    if word in grouped_words:\n",
    "        grouped_words[word].append(word)\n",
    "    else:\n",
    "        grouped_words[word] = [word]\n",
    "\n",
    "print(grouped_words[\"apple\"])\n",
    "print(grouped_words[\"banana\"])\n",
    "print(grouped_words[\"orange\"])\n",
    "print(grouped_words[\"grape\"])"
   ]
  },
  {
   "cell_type": "code",
   "execution_count": 7,
   "metadata": {},
   "outputs": [
    {
     "name": "stdout",
     "output_type": "stream",
     "text": [
      "The average score of 1: 71.4\n",
      "The average score of 2: 77.4\n",
      "The average score of 3: 60.8\n",
      "The average score of 4: 59.0\n",
      "The average score of 5: 74.4\n"
     ]
    }
   ],
   "source": [
    "\n",
    "student = {\n",
    "    1: {\"math\": 80, \"english\": 67, \"chemistry\": 87, \"physics\": 67, \"urdu\": 56},\n",
    "    2: {\"math\": 80, \"english\": 57, \"chemistry\": 67, \"physics\": 87, \"urdu\": 96},\n",
    "    3: {\"math\": 30, \"english\": 67, \"chemistry\": 87, \"physics\": 64, \"urdu\": 56},\n",
    "    4: {\"math\": 40, \"english\": 45, \"chemistry\": 54, \"physics\": 89, \"urdu\": 67},\n",
    "    5: {\"math\": 47, \"english\": 95, \"chemistry\": 74, \"physics\": 69, \"urdu\": 87},\n",
    "}\n",
    "for student_id, subject in student.items():\n",
    "    scores = subject.values()\n",
    "    a = sum(scores)\n",
    "    b = len(subject)\n",
    "    print(f\"The average score of {student_id}: {a/b}\")\n",
    "    "
   ]
  },
  {
   "cell_type": "code",
   "execution_count": 3,
   "metadata": {},
   "outputs": [
    {
     "name": "stdout",
     "output_type": "stream",
     "text": [
      "Password is strong\n"
     ]
    }
   ],
   "source": [
    "\n",
    "import re\n",
    "def check_pass(password):\n",
    "   \n",
    "    if len(password) <8:\n",
    "        return \"Your password must be at least 8 characters\"\n",
    "    if not re.search(r\"\\d\", password):\n",
    "        return \"Password should contain at least one digit\"\n",
    "    if not re.search(r'[a-zA-Z]', password):\n",
    "        return \"Password should contain at least one letter\" \n",
    "    \n",
    "    return \"Password is strong\"\n",
    "password = input(\"enter your password: \")\n",
    "print(check_pass(password))\n",
    "        \n",
    "        \n",
    "               "
   ]
  },
  {
   "cell_type": "code",
   "execution_count": 10,
   "metadata": {},
   "outputs": [
    {
     "name": "stdout",
     "output_type": "stream",
     "text": [
      "\n",
      "Nominees:\n",
      "1: Candidate A\n",
      "2: Candidate B\n",
      "3: Candidate C\n",
      "Vote recorded successfully!\n",
      "\n",
      "Nominees:\n",
      "1: Candidate A\n",
      "2: Candidate B\n",
      "3: Candidate C\n",
      "Vote recorded successfully!\n",
      "\n",
      "Voting Results:\n",
      "Candidate A: 1 votes\n",
      "Candidate B: 1 votes\n",
      "Candidate C: 0 votes\n"
     ]
    }
   ],
   "source": [
    "def main():\n",
    "    candidates = {\n",
    "        1: \"Candidate A\",\n",
    "        2: \"Candidate B\",\n",
    "        3: \"Candidate C\"\n",
    "    }\n",
    "\n",
    "    num_voters = int(input(\"Enter the number of voters: \"))\n",
    "    votes = {candidate: 0 for candidate in candidates}\n",
    "\n",
    "    for _ in range(num_voters):\n",
    "        print(\"\\nNominees:\")\n",
    "        for num, name in candidates.items():\n",
    "            print(f\"{num}: {name}\")\n",
    "\n",
    "        vote = int(input(\"Enter your vote (1, 2, or 3): \"))\n",
    "        while vote not in candidates:\n",
    "            print(\"Invalid vote. Please choose a valid candidate.\")\n",
    "            vote = int(input(\"Enter your vote (1, 2, or 3): \"))\n",
    "\n",
    "        votes[vote] += 1\n",
    "        print(\"Vote recorded successfully!\")\n",
    "\n",
    "    print(\"\\nVoting Results:\")\n",
    "    for num, name in candidates.items():\n",
    "        print(f\"{name}: {votes[num]} votes\")\n",
    "\n",
    "\n",
    "\n",
    "if __name__ == \"__main__\":\n",
    "    main()"
   ]
  }
 ],
 "metadata": {
  "kernelspec": {
   "display_name": "Python 3",
   "language": "python",
   "name": "python3"
  },
  "language_info": {
   "codemirror_mode": {
    "name": "ipython",
    "version": 3
   },
   "file_extension": ".py",
   "mimetype": "text/x-python",
   "name": "python",
   "nbconvert_exporter": "python",
   "pygments_lexer": "ipython3",
   "version": "undefined.undefined.undefined"
  }
 },
 "nbformat": 4,
 "nbformat_minor": 2
}
