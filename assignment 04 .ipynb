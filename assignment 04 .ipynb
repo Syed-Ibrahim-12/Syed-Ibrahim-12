{
 "cells": [
  {
   "cell_type": "code",
   "execution_count": 1,
   "metadata": {},
   "outputs": [
    {
     "name": "stdout",
     "output_type": "stream",
     "text": [
      "Alternate elements of the list are:\n",
      "9\n",
      "6\n"
     ]
    },
    {
     "data": {
      "text/plain": [
       "7"
      ]
     },
     "execution_count": 1,
     "metadata": {},
     "output_type": "execute_result"
    }
   ],
   "source": [
    "\n",
    "user_input = input(\"Enter a list of elements separated by spaces: \")\n",
    "user_list = user_input.split()\n",
    "print(\"Alternate elements of the list are:\")\n",
    "for i in range(0, len(user_list), 2):\n",
    "    print(user_list[i])\n"
   ]
  },
  {
   "cell_type": "code",
   "execution_count": 2,
   "metadata": {},
   "outputs": [
    {
     "name": "stdout",
     "output_type": "stream",
     "text": [
      "Reversed list is:\n",
      "['4', '3', '2', '1']\n"
     ]
    }
   ],
   "source": [
    "\n",
    "user_input = input(\"Enter a list of elements separated by spaces: \")\n",
    "user_list = user_input.split()\n",
    "reversed_list = user_list[::-1]\n",
    "print(\"Reversed list is:\")\n",
    "print(reversed_list)\n"
   ]
  },
  {
   "cell_type": "code",
   "execution_count": null,
   "metadata": {},
   "outputs": [],
   "source": [
    "\n",
    "user_input = input(\"Enter a list of numbers separated by spaces: \")\n",
    "user_list = [int(num) for num in user_input.split()]\n",
    "largest = user_list[0]\n",
    "for num in user_list:\n",
    "    if num > largest:\n",
    "        largest = num\n",
    "print(\"The largest number in the list is:\", largest)\n"
   ]
  },
  {
   "cell_type": "code",
   "execution_count": null,
   "metadata": {},
   "outputs": [],
   "source": [
    "\n",
    "user_input = input(\"Enter a list of elements separated by spaces: \")\n",
    "user_list = user_input.split()\n",
    "rotated_list = user_list[-1:] + user_list[:-1]\n",
    "print(\"Rotated list is:\")\n",
    "print(rotated_list)\n"
   ]
  },
  {
   "cell_type": "code",
   "execution_count": null,
   "metadata": {},
   "outputs": [],
   "source": [
    "\n",
    "user_string = input(\"Enter a string: \")\n",
    "word_to_delete = input(\"Enter the word to delete: \")\n",
    "result_string = user_string.replace(word_to_delete, \"\")\n",
    "print(\"String after deleting the word:\")\n",
    "print(result_string.strip())\n"
   ]
  },
  {
   "cell_type": "code",
   "execution_count": null,
   "metadata": {},
   "outputs": [],
   "source": [
    "\n",
    "months = {\n",
    "    \"01\": \"January\", \"02\": \"February\", \"03\": \"March\",\n",
    "    \"04\": \"April\", \"05\": \"May\", \"06\": \"June\",\n",
    "    \"07\": \"July\", \"08\": \"August\", \"09\": \"September\",\n",
    "    \"10\": \"October\", \"11\": \"November\", \"12\": \"December\"\n",
    "}\n",
    "date_input = input(\"Enter a date in the form mm/dd/yyyy: \")\n",
    "month, day, year = date_input.split('/')\n",
    "month_name = months[month]\n",
    "print(f\"{month_name} {int(day)}, {year}\")\n"
   ]
  },
  {
   "cell_type": "code",
   "execution_count": null,
   "metadata": {},
   "outputs": [],
   "source": [
    "def capitalize_words(input_string):\n",
    "    words = input_string.split()\n",
    "    capitalized_words = [word.capitalize() for word in words]\n",
    "    result_string = \" \".join(capitalized_words)\n",
    "    return result_string\n",
    "user_input = input(\"Enter a sentence: \")\n",
    "capitalized_string = capitalize_words(user_input)\n",
    "print(\"Output after capitalizing each word:\")\n",
    "print(capitalized_string)\n"
   ]
  },
  {
   "cell_type": "code",
   "execution_count": null,
   "metadata": {},
   "outputs": [],
   "source": [
    "def sum_of_rows(matrix):\n",
    "    for i, row in enumerate(matrix):\n",
    "        row_sum = sum(row)\n",
    "        print(f\"Sum of row {i + 1} = {row_sum}\")\n",
    "matrix = [\n",
    "    [3, 5, 9, 15],\n",
    "    [8, 12, 4, 7],\n",
    "    [10, 20, 30, 3]\n",
    "]\n",
    "sum_of_rows(matrix)\n",
    "  \n",
    "2.\n",
    "  \n",
    "def add_matrices(matrix1, matrix2):\n",
    "    result = []\n",
    "    for i in range(len(matrix1)):\n",
    "        row = []\n",
    "        for j in range(len(matrix1[0])):\n",
    "            row.append(matrix1[i][j] + matrix2[i][j])\n",
    "        result.append(row)\n",
    "    return result\n",
    "matrix1 = [\n",
    "    [1, 2, 3],\n",
    "    [4, 5, 6],\n",
    "    [7, 8, 9]\n",
    "]\n",
    "matrix2 = [\n",
    "    [9, 8, 7],\n",
    "    [6, 5, 4],\n",
    "    [3, 2, 1]\n",
    "]\n",
    "result_matrix = add_matrices(matrix1, matrix2)\n",
    "print(\"Sum of the two matrices:\")\n",
    "for row in result_matrix:\n",
    "    print(row)\n",
    "    \n",
    "    \n",
    "3.\n",
    "\n",
    "\n",
    "def multiply_matrices(matrix1, matrix2):\n",
    "    result = [[0 for _ in range(len(matrix2[0]))] for _ in range(len(matrix1))]\n",
    "    for i in range(len(matrix1)):\n",
    "        for j in range(len(matrix2[0])):\n",
    "            for k in range(len(matrix2)):\n",
    "                result[i][j] += matrix1[i][k] * matrix2[k][j]\n",
    "    return result\n",
    "matrix1 = [\n",
    "    [1, 2, 3],\n",
    "    [4, 5, 6]\n",
    "]\n",
    "matrix2 = [\n",
    "    [7, 8],\n",
    "    [9, 10],\n",
    "    [11, 12]\n",
    "]\n",
    "result_matrix = multiply_matrices(matrix1, matrix2)\n",
    "print(\"Product of the two matrices:\")\n",
    "for row in result_matrix:\n",
    "    print(row)\n",
    "\n",
    "\n",
    "\n",
    "\n"
   ]
  }
 ],
 "metadata": {
  "kernelspec": {
   "display_name": "Python 3",
   "language": "python",
   "name": "python3"
  },
  "language_info": {
   "codemirror_mode": {
    "name": "ipython",
    "version": 3
   },
   "file_extension": ".py",
   "mimetype": "text/x-python",
   "name": "python",
   "nbconvert_exporter": "python",
   "pygments_lexer": "ipython3",
   "version": "3.12.4"
  }
 },
 "nbformat": 4,
 "nbformat_minor": 2
}
