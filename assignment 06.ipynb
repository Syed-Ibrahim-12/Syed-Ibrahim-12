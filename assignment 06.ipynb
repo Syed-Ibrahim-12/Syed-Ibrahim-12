{
 "cells": [
  {
   "cell_type": "markdown",
   "metadata": {},
   "source": [
    "#### 1.Write a Python program to create a class representing a Circle. Include methods to calculate its area and perimeter."
   ]
  },
  {
   "cell_type": "code",
   "execution_count": 1,
   "metadata": {},
   "outputs": [
    {
     "name": "stdout",
     "output_type": "stream",
     "text": [
      "Area of the circle: 153.86\n",
      "Perimeter of the circle: 43.96\n"
     ]
    }
   ],
   "source": [
    "class circle:\n",
    "    def __init__(self):\n",
    "        self.radius = 7\n",
    "    def area(self):\n",
    "        return 3.14 * self.radius ** 2\n",
    "    def perimeter(self):\n",
    "        return 2 * 3.14 * self.radius\n",
    "Circle = circle ()\n",
    "print(f\"Area of the circle: {Circle.area()}\")\n",
    "print(f\"Perimeter of the circle: {Circle.perimeter()}\")"
   ]
  },
  {
   "cell_type": "markdown",
   "metadata": {},
   "source": [
    "#### 2. Write a Python program to create a person class. Include attributes like name, country and date of birth. Implement a method to determine the person's age.\n"
   ]
  },
  {
   "cell_type": "code",
   "execution_count": 20,
   "metadata": {},
   "outputs": [
    {
     "name": "stdout",
     "output_type": "stream",
     "text": [
      "17\n"
     ]
    }
   ],
   "source": [
    "class person:\n",
    "    def __init__(self,name,country,dob):\n",
    "        self.name = name\n",
    "        self.country = country\n",
    "        self.dob = dob\n",
    "        \n",
    "    def age(self):\n",
    "        \n",
    "        x = self.dob.split(\"-\")\n",
    "        x[-1] = int(x[-1])\n",
    "        print(2024-x[-1])\n",
    "            \n",
    "            \n",
    "        \n",
    "Person = person('ibrahim','australlia','27-10-2007')\n",
    "Person.name\n",
    "Person.age()"
   ]
  },
  {
   "cell_type": "markdown",
   "metadata": {},
   "source": [
    "#### 3.Write a Python program to create a calculator class. Include methods for basic arithmetic operations.\n"
   ]
  },
  {
   "cell_type": "code",
   "execution_count": null,
   "metadata": {},
   "outputs": [],
   "source": [
    "class Calculator:\n",
    "        \n",
    "    def __init__(self):\n",
    "        pass\n",
    "    \n",
    "    \n",
    "    def add(self, a, b):\n",
    "        return a + b\n",
    "    \n",
    "    \n",
    "    def subtract(self, a, b):\n",
    "        return a - b\n",
    "    \n",
    "\n",
    "    def multiply(self, a, b):\n",
    "        return a * b\n",
    "    \n",
    "    \n",
    "    def divide(self, a, b):\n",
    "        if b != 0:\n",
    "            return a / b\n",
    "        else:\n",
    "            return \"Division by zero is not allowed.\"\n",
    "\n",
    "\n",
    "calc = Calculator()\n",
    "\n",
    "\n",
    "print(\"Addition: 10 + 5 =\", calc.add(10, 5))\n",
    "print(\"Subtraction: 10 - 5 =\", calc.subtract(10, 5))\n",
    "print(\"Multiplication: 10 * 5 =\", calc.multiply(10, 5))\n",
    "print(\"Division: 10 / 5 =\", calc.divide(10, 5))\n",
    "print(\"Division by zero test: 10 / 0 =\", calc.divide(10, 0))\n"
   ]
  }
 ],
 "metadata": {
  "kernelspec": {
   "display_name": "Python 3",
   "language": "python",
   "name": "python3"
  },
  "language_info": {
   "codemirror_mode": {
    "name": "ipython",
    "version": 3
   },
   "file_extension": ".py",
   "mimetype": "text/x-python",
   "name": "python",
   "nbconvert_exporter": "python",
   "pygments_lexer": "ipython3",
   "version": "3.12.4"
  }
 },
 "nbformat": 4,
 "nbformat_minor": 2
}
