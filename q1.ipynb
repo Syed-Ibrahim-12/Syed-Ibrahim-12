{
 "cells": [
  {
   "cell_type": "code",
   "execution_count": 8,
   "metadata": {},
   "outputs": [
    {
     "name": "stdout",
     "output_type": "stream",
     "text": [
      "adding new student in database..\n",
      "ibrahim\n"
     ]
    }
   ],
   "source": [
    "# oops = \"object oriented programming\"\n",
    "# class,object\n",
    "class Student:\n",
    "    name = \"k.a\"\n",
    "s1 = Student()\n",
    "print(s1.name)\n",
    "# \n",
    "class Car:\n",
    "    colour = \"blue\"\n",
    "    brand = \"mercedes\"\n",
    "c1 = Car()\n",
    "print(c1.brand)\n",
    "print(c1.colour)\n",
    "# \n",
    "class resturant:\n",
    "    name = \"buns raod\"\n",
    "    add = \"b.r\"\n",
    "    deals = \"fries\"\n",
    "r = resturant()\n",
    "print(r.name)\n",
    "print(r.deals)\n",
    "print(r.add)\n",
    "# \n",
    "class student:\n",
    "    def __init__(self,fullname):\n",
    "        self.name = fullname\n",
    "        print(\"adding new student in database..\")\n",
    "s1 = student(\"ibrahim\")\n",
    "print(s1.name)\n",
    "\n"
   ]
  },
  {
   "cell_type": "code",
   "execution_count": 4,
   "metadata": {},
   "outputs": [
    {
     "name": "stdout",
     "output_type": "stream",
     "text": [
      "the radius of the cicle is: 254.46900494077323\n"
     ]
    }
   ],
   "source": [
    "import math\n",
    "# Area = π * radius^2\n",
    "radius = float(input(\"enter the radius of the circle: \"))\n",
    "area = math.pi * radius ** 2\n",
    "print(f\"The radius of the cicle is: {area}\")\n"
   ]
  },
  {
   "cell_type": "code",
   "execution_count": 8,
   "metadata": {},
   "outputs": [
    {
     "name": "stdout",
     "output_type": "stream",
     "text": [
      "The simple_interest is: 3.78\n"
     ]
    }
   ],
   "source": [
    "principle = int(input(\"enter the principle amount: \"))\n",
    "rate = int(input(\"enter the rate of interest: \"))\n",
    "time = int(input(\"enter the year :\"))\n",
    "simple_interest = (principle * rate *time) / 100\n",
    "print (f\"The simple_interest is: {simple_interest}\")"
   ]
  },
  {
   "cell_type": "code",
   "execution_count": 16,
   "metadata": {},
   "outputs": [
    {
     "name": "stdout",
     "output_type": "stream",
     "text": [
      "'madam' is a palindrome.\n"
     ]
    }
   ],
   "source": [
    "def is_palindrome(s):\n",
    "    s= s.lower().replace(\" \",\" \")\n",
    "    return s== s[:: -1]\n",
    "word = input(\"enter a word: \")\n",
    "if is_palindrome(word):\n",
    "    print(f\"'{word}' is a palindrome.\")\n",
    "else:\n",
    "    print(f\"'{word}' is not a palindrome.\")\n"
   ]
  },
  {
   "cell_type": "code",
   "execution_count": 21,
   "metadata": {},
   "outputs": [
    {
     "name": "stdout",
     "output_type": "stream",
     "text": [
      "total bill : 90.0\n"
     ]
    }
   ],
   "source": [
    "total = 0\n",
    "while True:\n",
    "    product = input(\"enter product name(or 'done' to finish) :\")\n",
    "    if product.lower() ==  'done':\n",
    "        break\n",
    "    price = float(input(f\"enter price of {product}: \"))\n",
    "    total += price\n",
    "print(f\"total bill : {total}\")"
   ]
  },
  {
   "cell_type": "code",
   "execution_count": 37,
   "metadata": {},
   "outputs": [
    {
     "name": "stdout",
     "output_type": "stream",
     "text": [
      "toyota\n",
      "ading new car in colection..\n",
      "yaris 220\n",
      "ading new car in colection..\n",
      "supra 250\n"
     ]
    }
   ],
   "source": [
    "# oops\n",
    "class car:\n",
    "    showroom_name = \"toyota\"\n",
    "    def __init__(self,brand,speed) :\n",
    "        self.brand = brand\n",
    "        self.speed = speed\n",
    "        print(\"ading new car in colection..\")\n",
    "    \n",
    "c = car\n",
    "print(c.showroom_name)\n",
    "\n",
    "c6 = car(\"yaris\",220)\n",
    "print(c6.brand,c6.speed)\n",
    "\n",
    "c7 = car(\"supra\",250)\n",
    "print(c7.brand,c7.speed)\n"
   ]
  },
  {
   "cell_type": "code",
   "execution_count": null,
   "metadata": {},
   "outputs": [],
   "source": []
  }
 ],
 "metadata": {
  "kernelspec": {
   "display_name": "Python 3",
   "language": "python",
   "name": "python3"
  },
  "language_info": {
   "codemirror_mode": {
    "name": "ipython",
    "version": 3
   },
   "file_extension": ".py",
   "mimetype": "text/x-python",
   "name": "python",
   "nbconvert_exporter": "python",
   "pygments_lexer": "ipython3",
   "version": "3.12.4"
  }
 },
 "nbformat": 4,
 "nbformat_minor": 2
}
