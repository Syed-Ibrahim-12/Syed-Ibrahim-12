{
 "cells": [
  {
   "cell_type": "code",
   "execution_count": 1,
   "metadata": {},
   "outputs": [
    {
     "name": "stdout",
     "output_type": "stream",
     "text": [
      "helloworld\n"
     ]
    }
   ],
   "source": [
    "print(\"hello\" + \"world\")"
   ]
  },
  {
   "cell_type": "code",
   "execution_count": 1,
   "metadata": {},
   "outputs": [
    {
     "name": "stdout",
     "output_type": "stream",
     "text": [
      "you cant divde by zero!\n"
     ]
    }
   ],
   "source": [
    "try:\n",
    "    result = 10/0\n",
    "except ZeroDivisionError:\n",
    "    print(\"you cant divde by zero!\")"
   ]
  },
  {
   "cell_type": "code",
   "execution_count": 1,
   "metadata": {},
   "outputs": [
    {
     "data": {
      "text/plain": [
       "['append',\n",
       " 'clear',\n",
       " 'copy',\n",
       " 'count',\n",
       " 'extend',\n",
       " 'index',\n",
       " 'insert',\n",
       " 'pop',\n",
       " 'remove',\n",
       " 'reverse',\n",
       " 'sort']"
      ]
     },
     "execution_count": 1,
     "metadata": {},
     "output_type": "execute_result"
    }
   ],
   "source": [
    "\n",
    "[method for method in dir(list)  if \"_\" not in method]"
   ]
  },
  {
   "cell_type": "code",
   "execution_count": 2,
   "metadata": {},
   "outputs": [
    {
     "name": "stdout",
     "output_type": "stream",
     "text": [
      "Book: Robinson, Topic: Captain, Author: William Shakes\n",
      "Total books: 1\n",
      "sub books: pirates and ships\n"
     ]
    }
   ],
   "source": [
    "class Books:\n",
    "    counter = 0\n",
    "    organization= \"pirates and ships\"\n",
    "    def __init__(self, name, topic, author):\n",
    "        self.name = name\n",
    "        self.topic = topic\n",
    "        self.author = author\n",
    "        Books.counter += 1\n",
    "        \n",
    "    def __str__(self):\n",
    "        return f\"Book: {self.name}, Topic: {self.topic}, Author: {self.author}\"\n",
    "\n",
    "book1 = Books(name=\"Robinson\", topic=\"Captain\", author=\"William Shakes\")\n",
    "\n",
    "print(book1)\n",
    "\n",
    "print(\"Total books:\", Books.counter)\n",
    "print(\"sub books:\", Books.organization)\n"
   ]
  },
  {
   "cell_type": "code",
   "execution_count": 3,
   "metadata": {},
   "outputs": [
    {
     "name": "stdout",
     "output_type": "stream",
     "text": [
      "blue\n",
      "brown\n",
      "can speak\n"
     ]
    }
   ],
   "source": [
    "class parents:\n",
    "    def __init__(self, eye_colour, skin_colour):\n",
    "        self.eye_colour = eye_colour\n",
    "        self.skin_colour = skin_colour\n",
    "        \n",
    "    def speak(self):\n",
    "        print(\"can speak\")\n",
    "\n",
    "class child(parents):\n",
    "    pass\n",
    "\n",
    "parent_obj = parents('blue', 'brown')\n",
    "print(parent_obj.eye_colour)\n",
    "print(parent_obj.skin_colour)\n",
    "parent_obj.speak()\n",
    "\n",
    "\n"
   ]
  },
  {
   "cell_type": "code",
   "execution_count": 4,
   "metadata": {},
   "outputs": [
    {
     "name": "stdout",
     "output_type": "stream",
     "text": [
      "Sum of 4 and 5 is 9\n"
     ]
    }
   ],
   "source": [
    "class MathsOperations:\n",
    "    def add(self, number1: int, number2: int) -> None:\n",
    "        \"\"\"Add two numbers.\"\"\"\n",
    "        sum_result = number1 + number2\n",
    "        print(f\"Sum of {number1} and {number2} is {sum_result}\")\n",
    "\n",
    "math_op = MathsOperations()\n",
    "\n",
    "math_op.add(4, 5)\n"
   ]
  },
  {
   "cell_type": "code",
   "execution_count": 5,
   "metadata": {},
   "outputs": [
    {
     "name": "stdout",
     "output_type": "stream",
     "text": [
      "car: 2024 Pagani zonda R\n"
     ]
    }
   ],
   "source": [
    "\n",
    "class car:\n",
    "\n",
    "    def __init__(self, make, model, year):\n",
    "        self.make = make\n",
    "        self.model = model\n",
    "        self.year = year\n",
    "        \n",
    "    def display_info(self):\n",
    "        print(f\"car: {self.year} {self.make} {self.model}\")\n",
    "\n",
    "my_car = car(\"Pagani\",\"zonda R\", 2024)\n",
    "\n",
    "my_car.display_info()\n"
   ]
  },
  {
   "cell_type": "code",
   "execution_count": 6,
   "metadata": {},
   "outputs": [
    {
     "name": "stdout",
     "output_type": "stream",
     "text": [
      "Deposited 50000000000000000. New balance: 1050000000000000000\n",
      "Withdraw 2000000000000000. New balance: 1048000000000000000\n",
      "Account Holder: Ibrahim\n",
      "Balance: 1048000000000000000\n"
     ]
    }
   ],
   "source": [
    "\n",
    "class Account:\n",
    "    \n",
    "    def __init__(self, holder_name, balance=0):\n",
    "        self.holder_name = holder_name\n",
    "        self.balance = balance\n",
    "\n",
    "    def deposit(self, amount):\n",
    "        self.balance += amount\n",
    "        print(f\"Deposited {amount}. New balance: {self.balance}\")\n",
    "\n",
    "    def withdraw(self, amount):\n",
    "        if amount <= self.balance:\n",
    "            self.balance -= amount\n",
    "            print(f\"Withdraw {amount}. New balance: {self.balance}\")\n",
    "        else:\n",
    "            print(\"Insufficient funds\")\n",
    "\n",
    "    def display_info(self):\n",
    "        print(f\"Account Holder: {self.holder_name}\")\n",
    "        print(f\"Balance: {self.balance}\")\n",
    "\n",
    "my_account = Account(\"Ibrahim\", 1000000000000000000)\n",
    "\n",
    "my_account.deposit(50000000000000000)\n",
    "my_account.withdraw(2000000000000000)\n",
    "my_account.display_info()\n"
   ]
  },
  {
   "cell_type": "code",
   "execution_count": 9,
   "metadata": {},
   "outputs": [
    {
     "name": "stdout",
     "output_type": "stream",
     "text": [
      "blue\n",
      "fair\n",
      "Father speaks: randi ke bache\n",
      "Mother teaches: Always be kind.\n"
     ]
    }
   ],
   "source": [
    "class Father:\n",
    "    def __init__(self, eye_color):     \n",
    "        \n",
    "        self.eye_color = eye_color\n",
    "    def speak(self):\n",
    "        print(\"Father speaks: \")\n",
    "        \n",
    "class Mother:\n",
    "    def __init__(self, skin_color):\n",
    "        self.skin_color = skin_color\n",
    "    def teach(self):\n",
    "        print(\"Mother teaches: Always be kind.\")\n",
    "        \n",
    "class Son(Father, Mother):\n",
    "    def __init__(self, eye_color, skin_color):\n",
    "        Father.__init__(self, eye_color)\n",
    "        Mother.__init__(self,skin_color)\n",
    "        \n",
    "son = Son(\"blue\", \"fair\")          \n",
    "print(son.eye_color)  \n",
    "print(son.skin_color)  \n",
    "son.speak()  \n",
    "son.teach()  \n"
   ]
  },
  {
   "cell_type": "code",
   "execution_count": 3,
   "metadata": {},
   "outputs": [
    {
     "name": "stdout",
     "output_type": "stream",
     "text": [
      "triangle have 3 sides.\n",
      "square has 7 sides.\n"
     ]
    }
   ],
   "source": [
    "# abstraction\n",
    "class shapes ():\n",
    "    def sides (self):\n",
    "        pass\n",
    "class triangle (shapes):\n",
    "    def sides(self):\n",
    "        print(\"triangle have 3 sides.\")\n",
    "class square (shapes):\n",
    "    def sides (self):\n",
    "        print(\"square has 4 sides.\")\n",
    "t = triangle()\n",
    "t.sides()\n",
    "s = square()\n",
    "s.sides()"
   ]
  },
  {
   "cell_type": "code",
   "execution_count": 14,
   "metadata": {},
   "outputs": [
    {
     "name": "stdout",
     "output_type": "stream",
     "text": [
      " car have 4 tyre.\n",
      "bike have 2 tyre.\n"
     ]
    }
   ],
   "source": [
    "# example of abstraction\n",
    "class cars ():\n",
    "    def tyre (self):\n",
    "        pass \n",
    "class benz (cars):\n",
    "    def tyre (self):\n",
    "        print(\"car have 4 tyre.\")\n",
    "class bike (cars):\n",
    "    def tyre (self):\n",
    "        print(\"bike have 2 tyre.\")\n",
    "c = benz()\n",
    "c.tyre()\n",
    "b= bike()\n",
    "b.tyre()"
   ]
  },
  {
   "cell_type": "code",
   "execution_count": 6,
   "metadata": {},
   "outputs": [
    {
     "name": "stdout",
     "output_type": "stream",
     "text": [
      "7\n",
      "3.0\n",
      "sycodevil\n"
     ]
    }
   ],
   "source": [
    "# method overloading\n",
    "from typing import overload\n",
    "class adder:\n",
    "    @overload\n",
    "    def add(self,x: float,y :float)-> float:\n",
    "        ...\n",
    "    @overload\n",
    "    def add(self,x: int,y :int)-> int:\n",
    "        ...\n",
    "    @overload\n",
    "    def add(self,x: str,y :str)-> str:\n",
    "        ...\n",
    "    def add (self,x,y):\n",
    "        if isinstance(x,float)and isinstance(y,float):\n",
    "            return(x+y)\n",
    "        elif isinstance(x,int)and isinstance(y,int):\n",
    "            return(x+y)\n",
    "        elif isinstance(x,str)and isinstance(y,str):\n",
    "            return(x+y)\n",
    "        else:\n",
    "            raise TypeError(\"envalid argument types!\")\n",
    "adder = adder()\n",
    "result1 = adder.add (3,4)\n",
    "result2 = adder.add (1.4,1.6)\n",
    "result3 = adder.add (\"syco\",\"devil\")\n",
    "\n",
    "print(result1)\n",
    "print(result2)\n",
    "print(result3)\n"
   ]
  },
  {
   "cell_type": "code",
   "execution_count": 10,
   "metadata": {},
   "outputs": [
    {
     "name": "stdout",
     "output_type": "stream",
     "text": [
      "-1\n",
      "-0.20000000000000018\n",
      "sycodevil\n"
     ]
    }
   ],
   "source": [
    "from typing import overload\n",
    "\n",
    "class Subs:\n",
    "    @overload\n",
    "    def subs(self, a: float, b: float) -> float:\n",
    "        ...\n",
    "    \n",
    "    @overload\n",
    "    def subs(self, a: int, b: int) -> int:\n",
    "        ...\n",
    "    \n",
    "    @overload\n",
    "    def subs(self, a: str, b: str) -> str:\n",
    "        ...\n",
    "    \n",
    "    def subs(self, a, b):\n",
    "        if isinstance(a, int) and isinstance(b, int):\n",
    "            return a - b\n",
    "        elif isinstance(a, str) and isinstance(b, str):\n",
    "            return a + b  \n",
    "        elif isinstance(a, float) and isinstance(b, float):\n",
    "            return a - b\n",
    "        else:\n",
    "            raise TypeError(\"Invalid types! Only int, float, or str are allowed.\")\n",
    "\n",
    "subs = Subs()\n",
    "result1 = subs.subs(3, 4)\n",
    "result2 = subs.subs(1.4, 1.6)\n",
    "result3 = subs.subs(\"syco\", \"devil\")\n",
    "\n",
    "print(result1)  \n",
    "print(result2)  \n",
    "print(result3)  \n"
   ]
  },
  {
   "cell_type": "code",
   "execution_count": 8,
   "metadata": {},
   "outputs": [
    {
     "name": "stdout",
     "output_type": "stream",
     "text": [
      "Bird is eating aalu\n",
      "Animal is eating meat\n"
     ]
    }
   ],
   "source": [
    "# overriding\n",
    "class Animal():\n",
    "    def eating(self,food): \n",
    "        print(f\"Animal is eating {food}\")\n",
    "\n",
    "class Bird(Animal):\n",
    "    def eating(self, food):\n",
    "        print(f\"Bird is eating {food}\")\n",
    "        \n",
    "bird = Bird()\n",
    "bird.eating(\"aalu\")\n",
    "animal = Animal()\n",
    "animal.eating(\"meat\")\n"
   ]
  },
  {
   "cell_type": "code",
   "execution_count": 5,
   "metadata": {},
   "outputs": [
    {
     "name": "stdout",
     "output_type": "stream",
     "text": [
      "The bird is pecking at aalu.\n",
      "The animal is eating meat.\n",
      "<class '__main__.Animal'>\n"
     ]
    }
   ],
   "source": [
    "class Animal:\n",
    "    def eating(self, food):\n",
    "        print(f\"The animal is eating {food}.\")\n",
    "\n",
    "class Bird(Animal):\n",
    "    def eating(self, food):\n",
    "        print(f\"The bird is pecking at {food}.\")\n",
    "\n",
    "bird = Bird() \n",
    "bird.eating(\"aalu\")  \n",
    "\n",
    "animal = Animal()\n",
    "animal.eating(\"meat\")\n",
    "\n",
    "\n",
    "print(type(animal))  \n"
   ]
  },
  {
   "cell_type": "code",
   "execution_count": 1,
   "metadata": {},
   "outputs": [
    {
     "name": "stdout",
     "output_type": "stream",
     "text": [
      "Login successful!\n",
      "Valid User name\n",
      "Password updated successfully!\n",
      "Invalid username or password!\n"
     ]
    }
   ],
   "source": [
    "class StudentLogin:\n",
    "    def __init__(self) -> None:\n",
    "        self.__user_name = \"Syed ibrahim\"\n",
    "        self.__password = \"syco@123\"\n",
    "    \n",
    "    \n",
    "    def __private_method(self):\n",
    "        if self.__user_name and self.__password:\n",
    "            print(\"Valid User name\")\n",
    "        else:\n",
    "            print(\"The user name and password is not correct\")\n",
    "    \n",
    "    \n",
    "    def update_pass(self):\n",
    "        update = input(\"Enter your new password: \")\n",
    "        self.__password = update\n",
    "        print(\"Password updated successfully!\")\n",
    "        return self.__password  \n",
    "    \n",
    "\n",
    "    def login(self, expect_name, expect_password):\n",
    "        if expect_name == self.__user_name and expect_password == self.__password:\n",
    "            print(\"Login successful!\")\n",
    "            self.__private_method()  \n",
    "        else:\n",
    "            print(\"Invalid username or password!\")\n",
    "    \n",
    "\n",
    "login = StudentLogin()\n",
    "login.login(\"Syed ibrahim\", \"syco@123\")  \n",
    "login.update_pass()  \n",
    "login.login(\"Syed ibrahim\", \"NewPassword\")  \n"
   ]
  },
  {
   "cell_type": "code",
   "execution_count": 7,
   "metadata": {},
   "outputs": [
    {
     "name": "stdout",
     "output_type": "stream",
     "text": [
      "Valid user\n"
     ]
    }
   ],
   "source": [
    "class StudentLogin:\n",
    "    def __init__(self):\n",
    "        self.__username = input(\"Enter username: \")\n",
    "        self.__password = input(\"Enter password: \")\n",
    "\n",
    "    def __dbconnectivity(self, username, password):\n",
    "        if username == self.__username and password == self.__password:\n",
    "            print(\"Valid user\")\n",
    "        else:\n",
    "            print(\"Not valid\")\n",
    "\n",
    "    def update_password(self, old_password, new_password):\n",
    "        if old_password == self.__password:\n",
    "            self.__password = new_password\n",
    "            print(\"Password updated successfully\")\n",
    "        else:\n",
    "            print(\"Incorrect old password!\")\n",
    "\n",
    "    def login(self, username, password):\n",
    "        self.__dbconnectivity(username, password)\n",
    "\n",
    "\n",
    "student = StudentLogin()\n",
    "username = input(\"Enter username for login: \")\n",
    "password = input(\"Enter password for login: \")\n",
    "student.login(username, password)"
   ]
  },
  {
   "cell_type": "code",
   "execution_count": 7,
   "metadata": {},
   "outputs": [
    {
     "name": "stdout",
     "output_type": "stream",
     "text": [
      "the 2024toyotasupra engine is starting.\n",
      "None\n"
     ]
    }
   ],
   "source": [
    "class Car :\n",
    "    def __init__(self,make,model,year):\n",
    "        self.make = make\n",
    "        self.model = model\n",
    "        self.year = year\n",
    "    def start_engine(self):\n",
    "        print(f\"the {self.year}{self.make}{self.model} engine is starting.\")\n",
    "    def stop_engine(self):\n",
    "        print(f\"the {self.year}{self.make}{self.model} engine is stopping.\")\n",
    "\n",
    "car = Car(\"toyota\" , \"supra\" , 2024)\n",
    "print(car.start_engine())"
   ]
  }
 ],
 "metadata": {
  "kernelspec": {
   "display_name": "Python 3",
   "language": "python",
   "name": "python3"
  },
  "language_info": {
   "codemirror_mode": {
    "name": "ipython",
    "version": 3
   },
   "file_extension": ".py",
   "mimetype": "text/x-python",
   "name": "python",
   "nbconvert_exporter": "python",
   "pygments_lexer": "ipython3",
   "version": "3.12.4"
  }
 },
 "nbformat": 4,
 "nbformat_minor": 2
}
