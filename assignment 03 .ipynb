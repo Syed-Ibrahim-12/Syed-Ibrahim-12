{
 "cells": [
  {
   "cell_type": "code",
   "execution_count": 3,
   "metadata": {},
   "outputs": [
    {
     "name": "stdout",
     "output_type": "stream",
     "text": [
      "num of vowels: 1\n"
     ]
    }
   ],
   "source": [
    "def count_vowels(string):\n",
    "    vowels = 'aeiou'\n",
    "    count = 0\n",
    "    for chr in string:\n",
    "        if chr in vowels:\n",
    "            count += 1\n",
    "    print(f\"num of vowels: {count}\")\n",
    "user_input = input (\"enter a string: \")\n",
    "count_vowels(user_input)"
   ]
  },
  {
   "cell_type": "code",
   "execution_count": 2,
   "metadata": {},
   "outputs": [
    {
     "name": "stdout",
     "output_type": "stream",
     "text": [
      "Number of uppercase: 1\n",
      "Number of lower: 5\n",
      "Number of whitespace: 0\n",
      "Number of digit: 3\n"
     ]
    }
   ],
   "source": [
    "str_input = input(\"Enter your string .. \")\n",
    "no_upper = 0\n",
    "no_lower = 0\n",
    "no_whitespace = 0\n",
    "no_digit = 0\n",
    "for i in str_input:\n",
    "    if i.isupper():\n",
    "        no_upper += 1\n",
    "    if i.islower():\n",
    "        no_lower += 1\n",
    "    if i.isspace():\n",
    "        no_whitespace += 1\n",
    "    if i.isdigit():\n",
    "        no_digit += 1\n",
    "\n",
    "print(f\"Number of uppercase: {no_upper}\")    \n",
    "print(f\"Number of lower: {no_lower}\")    \n",
    "print(f\"Number of whitespace: {no_whitespace}\")        \n",
    "print(f\"Number of digit: {no_digit}\")    \n"
   ]
  },
  {
   "cell_type": "code",
   "execution_count": 13,
   "metadata": {},
   "outputs": [
    {
     "name": "stdout",
     "output_type": "stream",
     "text": [
      "new str:iiharbm\n"
     ]
    }
   ],
   "source": [
    "def swap_first_last(str):\n",
    "    if len(str)< 2:\n",
    "        return str\n",
    "    return str [-1]+ str [1:-1] +str[0]\n",
    "user_input = input(\"enter a str: \")\n",
    "swap_str = swap_first_last(user_input)\n",
    "print(f\"new str:{swap_str}\")\n"
   ]
  },
  {
   "cell_type": "code",
   "execution_count": 14,
   "metadata": {},
   "outputs": [
    {
     "name": "stdout",
     "output_type": "stream",
     "text": [
      "Reversed string: nug\n"
     ]
    }
   ],
   "source": [
    "def reverse_string(string):\n",
    "    return string[::-1]\n",
    "\n",
    "user_input = input(\"Enter a string: \")\n",
    "reversed_string = reverse_string(user_input)\n",
    "print(f\"Reversed string: {reversed_string}\")\n"
   ]
  },
  {
   "cell_type": "code",
   "execution_count": 15,
   "metadata": {},
   "outputs": [
    {
     "name": "stdout",
     "output_type": "stream",
     "text": [
      "Shifted string: inim\n"
     ]
    }
   ],
   "source": [
    "def shift_left(string):\n",
    "    if len(string) < 2:\n",
    "        return string\n",
    "    return string[1:] + string[0]\n",
    "\n",
    "user_input = input(\"Enter a string: \")\n",
    "shifted_string = shift_left(user_input)\n",
    "print(f\"Shifted string: {shifted_string}\")\n"
   ]
  },
  {
   "cell_type": "code",
   "execution_count": 16,
   "metadata": {},
   "outputs": [
    {
     "name": "stdout",
     "output_type": "stream",
     "text": [
      "Initials: S. I. S.\n"
     ]
    }
   ],
   "source": [
    "def print_initials(name):\n",
    "    initials = \"\"\n",
    "    for i in range(len(name)):\n",
    "        if i == 0 or name[i-1] == ' ':\n",
    "            initials += name[i].upper() + \". \"\n",
    "    print(f\"Initials: {initials.strip()}\")\n",
    "\n",
    "user_name = input(\"Enter your full name: \")\n",
    "print_initials(user_name)\n"
   ]
  },
  {
   "cell_type": "code",
   "execution_count": null,
   "metadata": {},
   "outputs": [],
   "source": [
    "def is_palindrome(string):\n",
    "    normalized_string = string.lower()\n",
    "    return normalized_string == normalized_string[::-1]\n",
    "\n",
    "user_input = input(\"Enter a string: \")\n",
    "if is_palindrome(user_input):\n",
    "    print(f\"{user_input} is a palindrome\")\n",
    "else:\n",
    "    print(f\"{user_input} is not a palindrome\")\n"
   ]
  },
  {
   "cell_type": "code",
   "execution_count": 17,
   "metadata": {},
   "outputs": [
    {
     "name": "stdout",
     "output_type": "stream",
     "text": [
      "SHIFT\n",
      "HIFTS\n",
      "IFTSH\n",
      "FTSHI\n",
      "TSHIF\n"
     ]
    }
   ],
   "source": [
    "def rotate_string(string):\n",
    "    for i in range(len(string)):\n",
    "        print(string[i:] + string[:i])\n",
    "\n",
    "rotate_string(\"SHIFT\")\n"
   ]
  },
  {
   "cell_type": "code",
   "execution_count": 5,
   "metadata": {},
   "outputs": [
    {
     "name": "stdout",
     "output_type": "stream",
     "text": [
      "Password is strong\n"
     ]
    }
   ],
   "source": [
    "import re\n",
    "def check_pass(password):\n",
    "   \n",
    "    if len(password) <8:\n",
    "        return \"Your password must be at least 8 characters\"\n",
    "    if not re.search(r\"\\d\", password):\n",
    "        return \"Password should contain at least one digit\"\n",
    "    if not re.search(r'[a-zA-Z]', password):\n",
    "        return \"Password should contain at least one letter\" \n",
    "    \n",
    "    return \"Password is strong\"\n",
    "password = input(\"enter your password: \")\n",
    "print(check_pass(password))"
   ]
  }
 ],
 "metadata": {
  "kernelspec": {
   "display_name": "Python 3",
   "language": "python",
   "name": "python3"
  },
  "language_info": {
   "codemirror_mode": {
    "name": "ipython",
    "version": 3
   },
   "file_extension": ".py",
   "mimetype": "text/x-python",
   "name": "python",
   "nbconvert_exporter": "python",
   "pygments_lexer": "ipython3",
   "version": "3.12.4"
  }
 },
 "nbformat": 4,
 "nbformat_minor": 2
}
