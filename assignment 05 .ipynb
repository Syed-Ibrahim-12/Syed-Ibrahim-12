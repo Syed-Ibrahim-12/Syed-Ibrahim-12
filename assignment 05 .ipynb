{
 "cells": [
  {
   "cell_type": "code",
   "execution_count": null,
   "metadata": {},
   "outputs": [],
   "source": [
    "\n",
    "print([x for x in range(1, 11)])"
   ]
  },
  {
   "cell_type": "code",
   "execution_count": null,
   "metadata": {},
   "outputs": [],
   "source": [
    "\n",
    "i = 20\n",
    "while i != 0:\n",
    "    print(i)\n",
    "    i -=1"
   ]
  },
  {
   "cell_type": "code",
   "execution_count": null,
   "metadata": {},
   "outputs": [],
   "source": [
    "print([x for x in range(0, 12,2 )])"
   ]
  },
  {
   "cell_type": "code",
   "execution_count": null,
   "metadata": {},
   "outputs": [],
   "source": [
    "x = int(input(\"Enter the number: \"))\n",
    "print([y  for y in range(1, x+1)])"
   ]
  },
  {
   "cell_type": "code",
   "execution_count": null,
   "metadata": {},
   "outputs": [],
   "source": [
    "\n",
    "x = int(input(\"Enter the number: \"))\n",
    "print([y for y in range(1, x, 2)])"
   ]
  },
  {
   "cell_type": "code",
   "execution_count": null,
   "metadata": {},
   "outputs": [],
   "source": [
    "print(['Happy BirthDay!' for x in range(5) ])"
   ]
  },
  {
   "cell_type": "code",
   "execution_count": null,
   "metadata": {},
   "outputs": [],
   "source": [
    "def generate_squares(n):\n",
    "    \"\"\"Generate the first n terms of the series formed by squaring natural numbers.\"\"\"\n",
    "    return [i**2 for i in range(1, n+1)]\n",
    "\n",
    "def main():\n",
    "    try:\n",
    "        n = int(input(\"Enter a number: \"))\n",
    "        if n > 0:\n",
    "            terms = generate_squares(n)\n",
    "            print(f\"The first {n} terms of the series are:\")\n",
    "            print(\" \".join(map(str, terms)))\n",
    "        else:\n",
    "            print(\"Please enter a positive integer.\")\n",
    "    except ValueError:\n",
    "        print(\"Invalid input. Please enter a valid integer.\")\n",
    "\n",
    "if __name__ == \"__main__\":\n",
    "    main()"
   ]
  },
  {
   "cell_type": "code",
   "execution_count": null,
   "metadata": {},
   "outputs": [],
   "source": [
    "def sum_of_reciprocals(n):\n",
    "    \"\"\"Calculate the sum of the reciprocals of all numbers from 1 to n.\"\"\"\n",
    "    total_sum = 0.0\n",
    "    for i in range(1, n + 1):\n",
    "        total_sum += 1 / i\n",
    "    return total_sum\n",
    "\n",
    "def main():\n",
    "    try:\n",
    "        n = int(input(\"Enter a positive integer: \"))\n",
    "        if n > 0:\n",
    "            result = sum_of_reciprocals(n)\n",
    "            print(f\"The sum of reciprocals from 1 to {n} is: {result:.2f}\")\n",
    "        else:\n",
    "            print(\"Please enter a positive integer.\")\n",
    "    except ValueError:\n",
    "        print(\"Invalid input. Please enter a valid integer.\")\n",
    "\n",
    "if __name__ == \"__main__\":\n",
    "    main()"
   ]
  },
  {
   "cell_type": "code",
   "execution_count": null,
   "metadata": {},
   "outputs": [],
   "source": [
    "i = 0\n",
    "while i != 5:\n",
    "    n = int(input(\"Enter the number: \"))\n",
    "    i+=1\n",
    "    total_sum = 0\n",
    "    for i in range(1, n + 1):\n",
    "        total_sum += i\n",
    "    \n",
    "print(total_sum)"
   ]
  },
  {
   "cell_type": "code",
   "execution_count": null,
   "metadata": {},
   "outputs": [],
   "source": [
    "import math\n",
    "n = int(input(\"Enter the number: \"))\n",
    "if n <= 0:\n",
    "    print(F\"{n}  could not be the factorial\")\n",
    "else:\n",
    "    c = math.factorial(n)\n",
    "    print(c)"
   ]
  },
  {
   "cell_type": "code",
   "execution_count": null,
   "metadata": {},
   "outputs": [],
   "source": [
    "def power(base, exponent):\n",
    "    result = 1\n",
    "    abs_exponent = abs(exponent)\n",
    "    \n",
    "    for _ in range(abs_exponent):\n",
    "        result *=base\n",
    "    \n",
    "    if exponent < 0:\n",
    "        result = 1 / result\n",
    "    \n",
    "    return result\n",
    "def main():\n",
    "    base = float(input(\"Enter the base number: \"))\n",
    "    exponent = int(input(\"Enter the exponent: \"))\n",
    "    \n",
    "    result = power(base, exponent) \n",
    "    print(f\"{base} raised to the power of {exponent} is {result}\")\n",
    "\n",
    "if __name__ == \"__main__\":\n",
    "    main()         "
   ]
  },
  {
   "cell_type": "code",
   "execution_count": null,
   "metadata": {},
   "outputs": [],
   "source": []
  }
 ],
 "metadata": {
  "language_info": {
   "name": "python"
  }
 },
 "nbformat": 4,
 "nbformat_minor": 2
}
